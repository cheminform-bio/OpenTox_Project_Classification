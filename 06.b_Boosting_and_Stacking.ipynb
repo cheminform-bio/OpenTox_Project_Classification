{
 "cells": [
  {
   "cell_type": "markdown",
   "id": "847af9b1",
   "metadata": {},
   "source": [
    "# Ensamble-based Models:\n",
    "- Combining Models\n",
    "\n",
    "__Part 2__\n",
    " > - Boosting\n",
    " > - Stacking"
   ]
  },
  {
   "cell_type": "code",
   "execution_count": 7,
   "id": "de60f15e",
   "metadata": {},
   "outputs": [],
   "source": [
    "import numpy as np, pandas as pd, seaborn as sns, matplotlib.pyplot as plt, os\n",
    "import pickle\n",
    "%matplotlib inline\n",
    "working_directory = os.getcwd()"
   ]
  },
  {
   "cell_type": "code",
   "execution_count": 8,
   "id": "c0a98f86",
   "metadata": {},
   "outputs": [],
   "source": [
    "# import the encoded covid df\n",
    "encoded_df = pd.read_csv(working_directory + '/VAERSData/encoded_df.csv')"
   ]
  },
  {
   "cell_type": "code",
   "execution_count": 9,
   "id": "5966e48a",
   "metadata": {},
   "outputs": [],
   "source": [
    "from sklearn.model_selection import train_test_split"
   ]
  },
  {
   "cell_type": "code",
   "execution_count": 10,
   "id": "bb68d814",
   "metadata": {},
   "outputs": [],
   "source": [
    "y, X = encoded_df['RECOVD'], encoded_df.drop(columns='RECOVD')\n",
    "\n",
    "X_train, X_test, y_train, y_test = train_test_split(X, y, test_size= 0.3, random_state=42)"
   ]
  },
  {
   "cell_type": "markdown",
   "id": "0836a7af",
   "metadata": {},
   "source": [
    "## Gradient Boosting\n",
    "> - Fit gradient boosted tree with `max_features`set to 5 and all other parameters set to default\n",
    "> - Evaluate the accuracy on test data for each of these models\n",
    "> - Plot the accuracy as a function of estimator number\n",
    "\n",
    "*Note** Boosting Models tend to take more run time than Bagging Models as they fit trees successively"
   ]
  },
  {
   "cell_type": "code",
   "execution_count": 11,
   "id": "68cbf130",
   "metadata": {},
   "outputs": [],
   "source": [
    "from sklearn.ensemble import GradientBoostingClassifier\n",
    "from sklearn.metrics import accuracy_score"
   ]
  },
  {
   "cell_type": "code",
   "execution_count": 5,
   "id": "47e692f2",
   "metadata": {},
   "outputs": [
    {
     "name": "stdout",
     "output_type": "stream",
     "text": [
      "Fitting model with50 trees\n",
      "Fitting model with100 trees\n",
      "Fitting model with300 trees\n",
      "Fitting model with500 trees\n",
      "Fitting model with1000 trees\n",
      "Fitting model with2000 trees\n",
      "Fitting model with5000 trees\n",
      "Fitting model with10000 trees\n",
      "Fitting model with20000 trees\n",
      "Fitting model with40000 trees\n"
     ]
    },
    {
     "data": {
      "text/html": [
       "<div>\n",
       "<style scoped>\n",
       "    .dataframe tbody tr th:only-of-type {\n",
       "        vertical-align: middle;\n",
       "    }\n",
       "\n",
       "    .dataframe tbody tr th {\n",
       "        vertical-align: top;\n",
       "    }\n",
       "\n",
       "    .dataframe thead th {\n",
       "        text-align: right;\n",
       "    }\n",
       "</style>\n",
       "<table border=\"1\" class=\"dataframe\">\n",
       "  <thead>\n",
       "    <tr style=\"text-align: right;\">\n",
       "      <th></th>\n",
       "      <th>error</th>\n",
       "    </tr>\n",
       "    <tr>\n",
       "      <th>n_trees</th>\n",
       "      <th></th>\n",
       "    </tr>\n",
       "  </thead>\n",
       "  <tbody>\n",
       "    <tr>\n",
       "      <th>50.0</th>\n",
       "      <td>0.406998</td>\n",
       "    </tr>\n",
       "    <tr>\n",
       "      <th>100.0</th>\n",
       "      <td>0.402676</td>\n",
       "    </tr>\n",
       "    <tr>\n",
       "      <th>300.0</th>\n",
       "      <td>0.398721</td>\n",
       "    </tr>\n",
       "    <tr>\n",
       "      <th>500.0</th>\n",
       "      <td>0.398927</td>\n",
       "    </tr>\n",
       "    <tr>\n",
       "      <th>1000.0</th>\n",
       "      <td>0.398159</td>\n",
       "    </tr>\n",
       "    <tr>\n",
       "      <th>2000.0</th>\n",
       "      <td>0.397918</td>\n",
       "    </tr>\n",
       "    <tr>\n",
       "      <th>5000.0</th>\n",
       "      <td>0.397505</td>\n",
       "    </tr>\n",
       "    <tr>\n",
       "      <th>10000.0</th>\n",
       "      <td>0.397505</td>\n",
       "    </tr>\n",
       "    <tr>\n",
       "      <th>20000.0</th>\n",
       "      <td>0.397414</td>\n",
       "    </tr>\n",
       "    <tr>\n",
       "      <th>40000.0</th>\n",
       "      <td>0.397849</td>\n",
       "    </tr>\n",
       "  </tbody>\n",
       "</table>\n",
       "</div>"
      ],
      "text/plain": [
       "            error\n",
       "n_trees          \n",
       "50.0     0.406998\n",
       "100.0    0.402676\n",
       "300.0    0.398721\n",
       "500.0    0.398927\n",
       "1000.0   0.398159\n",
       "2000.0   0.397918\n",
       "5000.0   0.397505\n",
       "10000.0  0.397505\n",
       "20000.0  0.397414\n",
       "40000.0  0.397849"
      ]
     },
     "execution_count": 5,
     "metadata": {},
     "output_type": "execute_result"
    }
   ],
   "source": [
    "error_list = list()\n",
    "\n",
    "# iterate through various possibilities of the number of trees\n",
    "tree_list = [50, 100, 300, 500, 1000, 2000, 5000, 10000, 20000, 40000]\n",
    "for n_trees in tree_list:\n",
    "    GBC = GradientBoostingClassifier(max_features=5, n_estimators=n_trees, random_state=42)\n",
    "    \n",
    "    # Fit the model\n",
    "    print(f'Fitting model with{n_trees} trees')\n",
    "    GBC.fit(X_train.values, y_train.values)\n",
    "    y_pred = GBC.predict(X_test)\n",
    "    \n",
    "    # Get the error\n",
    "    error = 1.0 - accuracy_score(y_test, y_pred)\n",
    "    \n",
    "    # Store it\n",
    "    error_list.append(pd.Series({'n_trees': n_trees, 'error': error}))\n",
    "    \n",
    "error_df = pd.concat(error_list, axis=1).T.set_index('n_trees')    \n",
    "error_df    "
   ]
  },
  {
   "cell_type": "code",
   "execution_count": 6,
   "id": "eadb1087",
   "metadata": {},
   "outputs": [],
   "source": [
    "\n",
    "pickle.dump(error_df, open('error_df.p', 'wb')) "
   ]
  },
  {
   "cell_type": "code",
   "execution_count": 6,
   "id": "668ec07c",
   "metadata": {},
   "outputs": [],
   "source": [
    "error_df = pickle.load(open('error_df.p', 'rb'))"
   ]
  },
  {
   "cell_type": "code",
   "execution_count": 10,
   "id": "b1799aba",
   "metadata": {},
   "outputs": [
    {
     "data": {
      "text/plain": [
       "(0.0, 44000.0)"
      ]
     },
     "execution_count": 10,
     "metadata": {},
     "output_type": "execute_result"
    },
    {
     "data": {
      "image/png": "[encoded data removed]",
      "text/plain": [
       "<Figure size 1008x504 with 1 Axes>"
      ]
     },
     "metadata": {},
     "output_type": "display_data"
    }
   ],
   "source": [
    "sns.set_context('talk')\n",
    "sns.set_style('white')\n",
    "\n",
    "# Create the plot\n",
    "ax = error_df.plot(marker='o', figsize=(14,7), linewidth=3)\n",
    "\n",
    "# Set parameter\n",
    "ax.set(xlabel='Number of Trees', ylabel='Error')\n",
    "ax.set_xlim(0, max(error_df.index)*1.1)"
   ]
  },
  {
   "cell_type": "markdown",
   "id": "e229199c",
   "metadata": {},
   "source": [
    "## GridSearchCV\n",
    "\n",
    "> - Using a grid search with cross-validation, fit a new gradient boosted classifier with the number of trees equal to 10000.\n",
    "> - Vary the learning rates (0.1, 0.01, 0.001, etc), \n",
    "the subsampling value (1.0 or 0.5), number of maximum features(1, 2, etc)\n",
    "> - Examin the parameters of the best fit model.\n",
    "> - Calculate relevant error metrics on this model and examin the confusion matrix.\n"
   ]
  },
  {
   "cell_type": "code",
   "execution_count": 12,
   "id": "4cc54fdf",
   "metadata": {},
   "outputs": [],
   "source": [
    "from sklearn.model_selection import GridSearchCV\n",
    "\n",
    "# Note: Running hours here took more than 3 hours\n",
    "# The parameters to be fit\n",
    "param_grid = {'learning_rate': [0.1, 0.01, 0.001],\n",
    "               'subsample': [1.0, 0.5],\n",
    "               'max_features': [2, 3]}\n",
    "\n",
    "# The grid search object\n",
    "GV_GBC = GridSearchCV(GradientBoostingClassifier(n_estimators= 20000, random_state=42),\n",
    "                 param_grid= param_grid,\n",
    "                 scoring='accuracy',\n",
    "                 n_jobs=-1)\n",
    "\n",
    "# Do the grid search\n",
    "GV_GBC = GV_GBC.fit(X_train, y_train)"
   ]
  },
  {
   "cell_type": "code",
   "execution_count": 13,
   "id": "c4098d65",
   "metadata": {},
   "outputs": [],
   "source": [
    "# store the grid search df\n",
    "import pickle\n",
    "pickle.dump(GV_GBC, open('gv_gbc.p', 'wb')) "
   ]
  },
  {
   "cell_type": "code",
   "execution_count": 14,
   "id": "8a91e633",
   "metadata": {},
   "outputs": [],
   "source": [
    "# to read the file again: \n",
    "GV_GBC = pickle.load(open('gv_gbc.p', 'rb'))"
   ]
  },
  {
   "cell_type": "code",
   "execution_count": 15,
   "id": "88463c2a",
   "metadata": {},
   "outputs": [
    {
     "data": {
      "text/plain": [
       "GradientBoostingClassifier(learning_rate=0.01, max_features=3,\n",
       "                           n_estimators=20000, random_state=42, subsample=0.5)"
      ]
     },
     "execution_count": 15,
     "metadata": {},
     "output_type": "execute_result"
    }
   ],
   "source": [
    "# The best model\n",
    "GV_GBC.best_estimator_"
   ]
  },
  {
   "cell_type": "code",
   "execution_count": 16,
   "id": "fdb85933",
   "metadata": {},
   "outputs": [
    {
     "name": "stdout",
     "output_type": "stream",
     "text": [
      "              precision    recall  f1-score   support\n",
      "\n",
      "           0       0.66      0.60      0.63     73111\n",
      "           1       0.54      0.60      0.57     57724\n",
      "\n",
      "    accuracy                           0.60    130835\n",
      "   macro avg       0.60      0.60      0.60    130835\n",
      "weighted avg       0.61      0.60      0.60    130835\n",
      "\n"
     ]
    }
   ],
   "source": [
    "from sklearn.metrics import classification_report\n",
    "\n",
    "y_pred = GV_GBC.predict(X_test)\n",
    "print(classification_report(y_pred, y_test))"
   ]
  },
  {
   "cell_type": "code",
   "execution_count": 26,
   "id": "2c8c4cdc",
   "metadata": {},
   "outputs": [],
   "source": [
    "param_grid = {'learning_rate': [0.1, 0.01, 0.001],\n",
    "               'subsample': [1.0, 0.5],\n",
    "               'max_features': [4, 5]}\n",
    "\n",
    "# The grid search object\n",
    "GV_GBC2 = GridSearchCV(GradientBoostingClassifier(n_estimators= 20000, random_state=42),\n",
    "                 param_grid= param_grid,\n",
    "                 scoring='accuracy',\n",
    "                 n_jobs=-1)\n",
    "\n",
    "# Do the grid search\n",
    "GV_GBC2 = GV_GBC2.fit(X_train, y_train)"
   ]
  },
  {
   "cell_type": "code",
   "execution_count": 27,
   "id": "1c35ab0b",
   "metadata": {},
   "outputs": [
    {
     "data": {
      "text/plain": [
       "GradientBoostingClassifier(learning_rate=0.01, max_features=4,\n",
       "                           n_estimators=20000, random_state=42, subsample=0.5)"
      ]
     },
     "execution_count": 27,
     "metadata": {},
     "output_type": "execute_result"
    }
   ],
   "source": [
    "# The best model\n",
    "GV_GBC2.best_estimator_"
   ]
  },
  {
   "cell_type": "code",
   "execution_count": 28,
   "id": "1a1cc0ce",
   "metadata": {},
   "outputs": [
    {
     "name": "stdout",
     "output_type": "stream",
     "text": [
      "              precision    recall  f1-score   support\n",
      "\n",
      "           0       0.66      0.60      0.63     73005\n",
      "           1       0.55      0.60      0.57     57830\n",
      "\n",
      "    accuracy                           0.60    130835\n",
      "   macro avg       0.60      0.60      0.60    130835\n",
      "weighted avg       0.61      0.60      0.60    130835\n",
      "\n"
     ]
    }
   ],
   "source": [
    "y_pred = GV_GBC2.predict(X_test)\n",
    "print(classification_report(y_pred, y_test))"
   ]
  },
  {
   "cell_type": "code",
   "execution_count": 17,
   "id": "d28cfd16",
   "metadata": {},
   "outputs": [
    {
     "data": {
      "image/png": "[encoded data removed]",
      "text/plain": [
       "<Figure size 432x288 with 2 Axes>"
      ]
     },
     "metadata": {
      "needs_background": "light"
     },
     "output_type": "display_data"
    }
   ],
   "source": [
    "from sklearn.metrics import confusion_matrix\n",
    "\n",
    "sns.set_context('talk')\n",
    "cm = confusion_matrix(y_test, y_pred)\n",
    "ax = sns.heatmap(cm, annot=True, fmt='d', cmap='mako')\n"
   ]
  },
  {
   "cell_type": "code",
   "execution_count": 20,
   "id": "97676b44",
   "metadata": {},
   "outputs": [],
   "source": [
    "from sklearn.ensemble import AdaBoostClassifier\n",
    "from sklearn.tree import DecisionTreeClassifier\n",
    "\n",
    "ABC = AdaBoostClassifier(DecisionTreeClassifier(max_depth=1))\n",
    "\n",
    "params_grid = {'learning_rate': [0.1, 0.01, 0.001],\n",
    "               'n_estimators': [10000, 20000]}\n",
    "\n",
    "GV_ABC = GridSearchCV(ABC,\n",
    "                     param_grid= params_grid,\n",
    "                     scoring= 'accuracy',\n",
    "                     n_jobs=-1)\n",
    "\n",
    "GV_ABC = GV_ABC.fit(X_train, y_train)"
   ]
  },
  {
   "cell_type": "code",
   "execution_count": 22,
   "id": "18f58cec",
   "metadata": {},
   "outputs": [],
   "source": [
    "pickle.dump(GV_ABC, open('gv_abc.p', 'wb')) "
   ]
  },
  {
   "cell_type": "code",
   "execution_count": 23,
   "id": "2e513600",
   "metadata": {},
   "outputs": [],
   "source": [
    "# to read the file again: \n",
    "GV_ABC = pickle.load(open('gv_abc.p', 'rb'))"
   ]
  },
  {
   "cell_type": "code",
   "execution_count": 24,
   "id": "4e1b001e",
   "metadata": {},
   "outputs": [
    {
     "data": {
      "text/plain": [
       "AdaBoostClassifier(base_estimator=DecisionTreeClassifier(max_depth=1),\n",
       "                   learning_rate=0.001, n_estimators=20000)"
      ]
     },
     "execution_count": 24,
     "metadata": {},
     "output_type": "execute_result"
    }
   ],
   "source": [
    "GV_ABC.best_estimator_"
   ]
  },
  {
   "cell_type": "code",
   "execution_count": 25,
   "id": "7898ff1a",
   "metadata": {},
   "outputs": [
    {
     "name": "stdout",
     "output_type": "stream",
     "text": [
      "              precision    recall  f1-score   support\n",
      "\n",
      "           0       0.67      0.58      0.63     77249\n",
      "           1       0.50      0.59      0.54     53586\n",
      "\n",
      "    accuracy                           0.59    130835\n",
      "   macro avg       0.58      0.59      0.58    130835\n",
      "weighted avg       0.60      0.59      0.59    130835\n",
      "\n"
     ]
    }
   ],
   "source": [
    "y_pred = GV_ABC.predict(X_test)\n",
    "print(classification_report(y_pred, y_test))"
   ]
  },
  {
   "cell_type": "code",
   "execution_count": null,
   "id": "bc6f949b",
   "metadata": {},
   "outputs": [],
   "source": []
  }
 ],
 "metadata": {
  "kernelspec": {
   "display_name": "Python 3 (ipykernel)",
   "language": "python",
   "name": "python3"
  },
  "language_info": {
   "codemirror_mode": {
    "name": "ipython",
    "version": 3
   },
   "file_extension": ".py",
   "mimetype": "text/x-python",
   "name": "python",
   "nbconvert_exporter": "python",
   "pygments_lexer": "ipython3",
   "version": "3.9.7"
  }
 },
 "nbformat": 4,
 "nbformat_minor": 5
}
