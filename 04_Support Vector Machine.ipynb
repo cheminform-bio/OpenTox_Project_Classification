{
 "cells": [
  {
   "cell_type": "markdown",
   "id": "a507ddbd",
   "metadata": {},
   "source": [
    "# Support Vector Machine"
   ]
  },
  {
   "cell_type": "code",
   "execution_count": 98,
   "id": "fb0288c0",
   "metadata": {},
   "outputs": [],
   "source": [
    "import numpy as np, pandas as pd, seaborn as sns, matplotlib.pyplot as plt, os\n",
    "\n",
    "working_directory = os.getcwd()"
   ]
  },
  {
   "cell_type": "code",
   "execution_count": 99,
   "id": "28f04ac0",
   "metadata": {},
   "outputs": [],
   "source": [
    "# import the encoded covid df\n",
    "encoded_df = pd.read_csv(working_directory + '/VAERSData/encoded_df.csv')"
   ]
  },
  {
   "cell_type": "code",
   "execution_count": 100,
   "id": "2e1d9f37",
   "metadata": {},
   "outputs": [
    {
     "data": {
      "text/plain": [
       "DISABLE                    -0.129337\n",
       "DIED                       -0.120355\n",
       "OTHER_MEDS_Y               -0.112764\n",
       "HISTORY_Y                  -0.107970\n",
       "VAX_MANU_PFIZER\\BIONTECH   -0.064845\n",
       "HOSPITAL                   -0.062441\n",
       "ER_ED_VISIT                -0.051014\n",
       "L_THREAT                   -0.042705\n",
       "CUR_ILL_Y                  -0.031196\n",
       "ALLERGIES_Y                -0.028904\n",
       "X_STAY                     -0.007223\n",
       "SEX_M                       0.014569\n",
       "ALLERGIES_U                 0.027375\n",
       "CUR_ILL_U                   0.036432\n",
       "ageGroup                    0.053367\n",
       "SEX_U                       0.060154\n",
       "VAX_MANU_MODERNA            0.063685\n",
       "OTHER_MEDS_U                0.095821\n",
       "HISTORY_U                   0.110109\n",
       "dtype: float64"
      ]
     },
     "execution_count": 100,
     "metadata": {},
     "output_type": "execute_result"
    }
   ],
   "source": [
    "y= (encoded_df['RECOVD'] == 1).astype(int)\n",
    "fields= list(encoded_df.columns.drop('RECOVD'))\n",
    "correlations = encoded_df[fields].corrwith(y)\n",
    "correlations.sort_values(inplace=True)\n",
    "correlations"
   ]
  },
  {
   "cell_type": "code",
   "execution_count": 101,
   "id": "5c4f159f",
   "metadata": {},
   "outputs": [
    {
     "data": {
      "text/plain": [
       "[(-0.2, 0.2), Text(0, 0.5, 'Pearson correlation')]"
      ]
     },
     "execution_count": 101,
     "metadata": {},
     "output_type": "execute_result"
    },
    {
     "data": {
      "image/png": "[encoded data removed]",
      "text/plain": [
       "<Figure size 432x288 with 1 Axes>"
      ]
     },
     "metadata": {
      "needs_background": "light"
     },
     "output_type": "display_data"
    }
   ],
   "source": [
    "ax = correlations.plot(kind='bar', color='b')\n",
    "ax.set(ylim=[-0.2, 0.2], ylabel= 'Pearson correlation')"
   ]
  },
  {
   "cell_type": "code",
   "execution_count": 103,
   "id": "3dcbf9cb",
   "metadata": {},
   "outputs": [
    {
     "data": {
      "text/html": [
       "<div>\n",
       "<style scoped>\n",
       "    .dataframe tbody tr th:only-of-type {\n",
       "        vertical-align: middle;\n",
       "    }\n",
       "\n",
       "    .dataframe tbody tr th {\n",
       "        vertical-align: top;\n",
       "    }\n",
       "\n",
       "    .dataframe thead th {\n",
       "        text-align: right;\n",
       "    }\n",
       "</style>\n",
       "<table border=\"1\" class=\"dataframe\">\n",
       "  <thead>\n",
       "    <tr style=\"text-align: right;\">\n",
       "      <th></th>\n",
       "      <th>ageGroup_scaled</th>\n",
       "      <th>SEX_M_scaled</th>\n",
       "    </tr>\n",
       "  </thead>\n",
       "  <tbody>\n",
       "    <tr>\n",
       "      <th>0</th>\n",
       "      <td>0.2</td>\n",
       "      <td>0.0</td>\n",
       "    </tr>\n",
       "    <tr>\n",
       "      <th>1</th>\n",
       "      <td>0.0</td>\n",
       "      <td>0.0</td>\n",
       "    </tr>\n",
       "    <tr>\n",
       "      <th>2</th>\n",
       "      <td>0.2</td>\n",
       "      <td>0.0</td>\n",
       "    </tr>\n",
       "    <tr>\n",
       "      <th>3</th>\n",
       "      <td>0.0</td>\n",
       "      <td>1.0</td>\n",
       "    </tr>\n",
       "    <tr>\n",
       "      <th>4</th>\n",
       "      <td>0.2</td>\n",
       "      <td>0.0</td>\n",
       "    </tr>\n",
       "    <tr>\n",
       "      <th>...</th>\n",
       "      <td>...</td>\n",
       "      <td>...</td>\n",
       "    </tr>\n",
       "    <tr>\n",
       "      <th>436111</th>\n",
       "      <td>0.2</td>\n",
       "      <td>0.0</td>\n",
       "    </tr>\n",
       "    <tr>\n",
       "      <th>436112</th>\n",
       "      <td>0.2</td>\n",
       "      <td>0.0</td>\n",
       "    </tr>\n",
       "    <tr>\n",
       "      <th>436113</th>\n",
       "      <td>0.2</td>\n",
       "      <td>0.0</td>\n",
       "    </tr>\n",
       "    <tr>\n",
       "      <th>436114</th>\n",
       "      <td>0.2</td>\n",
       "      <td>0.0</td>\n",
       "    </tr>\n",
       "    <tr>\n",
       "      <th>436115</th>\n",
       "      <td>0.2</td>\n",
       "      <td>0.0</td>\n",
       "    </tr>\n",
       "  </tbody>\n",
       "</table>\n",
       "<p>436116 rows × 2 columns</p>\n",
       "</div>"
      ],
      "text/plain": [
       "        ageGroup_scaled  SEX_M_scaled\n",
       "0                   0.2           0.0\n",
       "1                   0.0           0.0\n",
       "2                   0.2           0.0\n",
       "3                   0.0           1.0\n",
       "4                   0.2           0.0\n",
       "...                 ...           ...\n",
       "436111              0.2           0.0\n",
       "436112              0.2           0.0\n",
       "436113              0.2           0.0\n",
       "436114              0.2           0.0\n",
       "436115              0.2           0.0\n",
       "\n",
       "[436116 rows x 2 columns]"
      ]
     },
     "execution_count": 103,
     "metadata": {},
     "output_type": "execute_result"
    }
   ],
   "source": [
    "from sklearn.preprocessing import MinMaxScaler\n",
    "\n",
    "fields = ['ageGroup', 'SEX_M']\n",
    "X = encoded_df[fields]\n",
    "scaler= MinMaxScaler()\n",
    "X = scaler.fit_transform(X)\n",
    "X = pd.DataFrame(X, columns=['%s_scaled' % fld for fld in fields])\n",
    "X"
   ]
  },
  {
   "cell_type": "markdown",
   "id": "d29e3454",
   "metadata": {},
   "source": [
    "__Part 2: Linear Decision Boundry__\n",
    "\n",
    "    __Our Goul__: is to look at the decision boundry of this dataset\n",
    "\n",
    "> - fit a linear Support Vector Machine Classifier to X, y\n",
    "> - Pick 300 samples from X. Get corresponding y value. Because our dataset is too arge and it produces crowded plot. \n",
    "> - Modify 0 and 1 of y to the original Y: recovered and N: not recovered\n",
    "> - scatter plot X, and plot the decision surface\n"
   ]
  },
  {
   "cell_type": "code",
   "execution_count": 87,
   "id": "f5e9552e",
   "metadata": {},
   "outputs": [
    {
     "data": {
      "text/plain": [
       "<matplotlib.collections.PathCollection at 0x7f84cab1b9a0>"
      ]
     },
     "execution_count": 87,
     "metadata": {},
     "output_type": "execute_result"
    },
    {
     "data": {
      "image/png": "[encoded data removed]",
      "text/plain": [
       "<Figure size 432x288 with 1 Axes>"
      ]
     },
     "metadata": {
      "needs_background": "light"
     },
     "output_type": "display_data"
    }
   ],
   "source": [
    "LSVC = LinearSVC()\n",
    "LSVC.fit(X, y)\n",
    "\n",
    "X_color = X.sample(500, random_state=45)\n",
    "y_color = y.loc[X_color.index]\n",
    "y_color = y_color.map(lambda r: 'green' if r == 1 else 'orange')\n",
    "ax = plt.axes()\n",
    "ax.scatter(\n",
    "    X_color.iloc[:, 0], X_color.iloc[:, 1],\n",
    "    color= y_color, alpha=1)"
   ]
  },
  {
   "cell_type": "code",
   "execution_count": 106,
   "id": "6d6d00be",
   "metadata": {},
   "outputs": [
    {
     "data": {
      "text/plain": [
       "[(0.0, 1.0), (0.0, 1.0), Text(0.5, 1.0, 'decision boundry for LinearSVC')]"
      ]
     },
     "execution_count": 106,
     "metadata": {},
     "output_type": "execute_result"
    },
    {
     "data": {
      "image/png": "[encoded data removed]",
      "text/plain": [
       "<Figure size 432x288 with 1 Axes>"
      ]
     },
     "metadata": {
      "needs_background": "light"
     },
     "output_type": "display_data"
    }
   ],
   "source": [
    "from sklearn.svm import LinearSVC\n",
    "\n",
    "LSVC = LinearSVC()\n",
    "LSVC.fit(X, y)\n",
    "\n",
    "X_color = X.sample(300, random_state=45)\n",
    "y_color = y.loc[X_color.index]\n",
    "y_color = y_color.map(lambda r: 'green' if r == 1 else 'orange')\n",
    "ax = plt.axes()\n",
    "ax.scatter(\n",
    "    X_color.iloc[:, 0], X_color.iloc[:, 1],\n",
    "    color= y_color, alpha=1)\n",
    "# -----------------\n",
    "x_axis, y_axis =np.arange(0, 1.005, .005), np.arange(0, 1.005, .005)\n",
    "xx, yy = np.meshgrid(x_axis, y_axis)\n",
    "xx_ravel = xx.ravel()\n",
    "yy_ravel = yy.ravel()\n",
    "X_grid = pd.DataFrame((xx_ravel, yy_ravel)).T\n",
    "y_grid_predictions = LSVC.predict(X_grid)\n",
    "y_grid_predictions = y_grid_predictions.reshape(xx.shape)\n",
    "ax.contourf(xx, yy, y_grid_predictions, cmap= plt.cm.autumn_r, alpha=.3)\n",
    "# -----------------\n",
    "ax.set(\n",
    "    x_label= fields[0],\n",
    "    y_label= fields[1],\n",
    "    xlim=[0,1],\n",
    "    ylim=[0,1],\n",
    "    title= 'decision boundry for LinearSVC')"
   ]
  },
  {
   "cell_type": "code",
   "execution_count": null,
   "id": "705a6ea1",
   "metadata": {},
   "outputs": [],
   "source": []
  },
  {
   "cell_type": "code",
   "execution_count": null,
   "id": "f3eaef3f",
   "metadata": {},
   "outputs": [],
   "source": []
  }
 ],
 "metadata": {
  "kernelspec": {
   "display_name": "Python 3 (ipykernel)",
   "language": "python",
   "name": "python3"
  },
  "language_info": {
   "codemirror_mode": {
    "name": "ipython",
    "version": 3
   },
   "file_extension": ".py",
   "mimetype": "text/x-python",
   "name": "python",
   "nbconvert_exporter": "python",
   "pygments_lexer": "ipython3",
   "version": "3.9.7"
  }
 },
 "nbformat": 4,
 "nbformat_minor": 5
}
