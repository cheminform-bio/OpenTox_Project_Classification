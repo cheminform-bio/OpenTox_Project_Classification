{
 "cells": [
  {
   "cell_type": "code",
   "execution_count": 2,
   "id": "804476d6",
   "metadata": {},
   "outputs": [],
   "source": [
    "import numpy as np, pandas as pd, seaborn as sns, matplotlib.pyplot as plt, os\n",
    "import pickle\n",
    "%matplotlib inline\n",
    "working_directory = os.getcwd()"
   ]
  },
  {
   "cell_type": "code",
   "execution_count": 3,
   "id": "2a628308",
   "metadata": {},
   "outputs": [
    {
     "data": {
      "text/plain": [
       "(436116, 20)"
      ]
     },
     "execution_count": 3,
     "metadata": {},
     "output_type": "execute_result"
    }
   ],
   "source": [
    "# import the encoded_df\n",
    "encoded_df = pd.read_csv(working_directory + '/VAERSData/encoded_df.csv')\n",
    "encoded_df.shape"
   ]
  },
  {
   "cell_type": "markdown",
   "id": "e371a0f0",
   "metadata": {},
   "source": [
    "- having set up the data, remeber that the K-nearest neighbor uses distance and hence requires scaled data."
   ]
  },
  {
   "cell_type": "code",
   "execution_count": 19,
   "id": "1488370d",
   "metadata": {},
   "outputs": [
    {
     "data": {
      "text/html": [
       "<div>\n",
       "<style scoped>\n",
       "    .dataframe tbody tr th:only-of-type {\n",
       "        vertical-align: middle;\n",
       "    }\n",
       "\n",
       "    .dataframe tbody tr th {\n",
       "        vertical-align: top;\n",
       "    }\n",
       "\n",
       "    .dataframe thead th {\n",
       "        text-align: right;\n",
       "    }\n",
       "</style>\n",
       "<table border=\"1\" class=\"dataframe\">\n",
       "  <thead>\n",
       "    <tr style=\"text-align: right;\">\n",
       "      <th></th>\n",
       "      <th>count</th>\n",
       "      <th>mean</th>\n",
       "      <th>std</th>\n",
       "      <th>min</th>\n",
       "      <th>25%</th>\n",
       "      <th>50%</th>\n",
       "      <th>75%</th>\n",
       "      <th>max</th>\n",
       "    </tr>\n",
       "  </thead>\n",
       "  <tbody>\n",
       "    <tr>\n",
       "      <th>DIED</th>\n",
       "      <td>436116.0</td>\n",
       "      <td>0.015143</td>\n",
       "      <td>0.122121</td>\n",
       "      <td>0.0</td>\n",
       "      <td>0.0</td>\n",
       "      <td>0.0</td>\n",
       "      <td>0.0</td>\n",
       "      <td>1.0</td>\n",
       "    </tr>\n",
       "    <tr>\n",
       "      <th>L_THREAT</th>\n",
       "      <td>436116.0</td>\n",
       "      <td>0.018419</td>\n",
       "      <td>0.134463</td>\n",
       "      <td>0.0</td>\n",
       "      <td>0.0</td>\n",
       "      <td>0.0</td>\n",
       "      <td>0.0</td>\n",
       "      <td>1.0</td>\n",
       "    </tr>\n",
       "    <tr>\n",
       "      <th>HOSPITAL</th>\n",
       "      <td>436116.0</td>\n",
       "      <td>0.057418</td>\n",
       "      <td>0.232640</td>\n",
       "      <td>0.0</td>\n",
       "      <td>0.0</td>\n",
       "      <td>0.0</td>\n",
       "      <td>0.0</td>\n",
       "      <td>1.0</td>\n",
       "    </tr>\n",
       "    <tr>\n",
       "      <th>X_STAY</th>\n",
       "      <td>436116.0</td>\n",
       "      <td>0.000454</td>\n",
       "      <td>0.021303</td>\n",
       "      <td>0.0</td>\n",
       "      <td>0.0</td>\n",
       "      <td>0.0</td>\n",
       "      <td>0.0</td>\n",
       "      <td>1.0</td>\n",
       "    </tr>\n",
       "    <tr>\n",
       "      <th>DISABLE</th>\n",
       "      <td>436116.0</td>\n",
       "      <td>0.021279</td>\n",
       "      <td>0.144312</td>\n",
       "      <td>0.0</td>\n",
       "      <td>0.0</td>\n",
       "      <td>0.0</td>\n",
       "      <td>0.0</td>\n",
       "      <td>1.0</td>\n",
       "    </tr>\n",
       "    <tr>\n",
       "      <th>RECOVD</th>\n",
       "      <td>436116.0</td>\n",
       "      <td>0.487584</td>\n",
       "      <td>0.499846</td>\n",
       "      <td>0.0</td>\n",
       "      <td>0.0</td>\n",
       "      <td>0.0</td>\n",
       "      <td>1.0</td>\n",
       "      <td>1.0</td>\n",
       "    </tr>\n",
       "    <tr>\n",
       "      <th>ER_ED_VISIT</th>\n",
       "      <td>436116.0</td>\n",
       "      <td>0.126297</td>\n",
       "      <td>0.332184</td>\n",
       "      <td>0.0</td>\n",
       "      <td>0.0</td>\n",
       "      <td>0.0</td>\n",
       "      <td>0.0</td>\n",
       "      <td>1.0</td>\n",
       "    </tr>\n",
       "    <tr>\n",
       "      <th>ageGroup</th>\n",
       "      <td>436116.0</td>\n",
       "      <td>0.988858</td>\n",
       "      <td>1.060050</td>\n",
       "      <td>0.0</td>\n",
       "      <td>0.0</td>\n",
       "      <td>1.0</td>\n",
       "      <td>2.0</td>\n",
       "      <td>5.0</td>\n",
       "    </tr>\n",
       "    <tr>\n",
       "      <th>OTHER_MEDS_Not Specified</th>\n",
       "      <td>436116.0</td>\n",
       "      <td>0.289093</td>\n",
       "      <td>0.453342</td>\n",
       "      <td>0.0</td>\n",
       "      <td>0.0</td>\n",
       "      <td>0.0</td>\n",
       "      <td>1.0</td>\n",
       "      <td>1.0</td>\n",
       "    </tr>\n",
       "    <tr>\n",
       "      <th>OTHER_MEDS_RPTD</th>\n",
       "      <td>436116.0</td>\n",
       "      <td>0.560259</td>\n",
       "      <td>0.496356</td>\n",
       "      <td>0.0</td>\n",
       "      <td>0.0</td>\n",
       "      <td>1.0</td>\n",
       "      <td>1.0</td>\n",
       "      <td>1.0</td>\n",
       "    </tr>\n",
       "    <tr>\n",
       "      <th>CUR_ILL_Not Specified</th>\n",
       "      <td>436116.0</td>\n",
       "      <td>0.443474</td>\n",
       "      <td>0.496795</td>\n",
       "      <td>0.0</td>\n",
       "      <td>0.0</td>\n",
       "      <td>0.0</td>\n",
       "      <td>1.0</td>\n",
       "      <td>1.0</td>\n",
       "    </tr>\n",
       "    <tr>\n",
       "      <th>CUR_ILL_RPTD</th>\n",
       "      <td>436116.0</td>\n",
       "      <td>0.145890</td>\n",
       "      <td>0.352996</td>\n",
       "      <td>0.0</td>\n",
       "      <td>0.0</td>\n",
       "      <td>0.0</td>\n",
       "      <td>0.0</td>\n",
       "      <td>1.0</td>\n",
       "    </tr>\n",
       "    <tr>\n",
       "      <th>ALLERGIES_Not Specified</th>\n",
       "      <td>436116.0</td>\n",
       "      <td>0.367778</td>\n",
       "      <td>0.482201</td>\n",
       "      <td>0.0</td>\n",
       "      <td>0.0</td>\n",
       "      <td>0.0</td>\n",
       "      <td>1.0</td>\n",
       "      <td>1.0</td>\n",
       "    </tr>\n",
       "    <tr>\n",
       "      <th>ALLERGIES_RPTD</th>\n",
       "      <td>436116.0</td>\n",
       "      <td>0.347694</td>\n",
       "      <td>0.476239</td>\n",
       "      <td>0.0</td>\n",
       "      <td>0.0</td>\n",
       "      <td>0.0</td>\n",
       "      <td>1.0</td>\n",
       "      <td>1.0</td>\n",
       "    </tr>\n",
       "    <tr>\n",
       "      <th>HISTORY_Not Specified</th>\n",
       "      <td>436116.0</td>\n",
       "      <td>0.274037</td>\n",
       "      <td>0.446028</td>\n",
       "      <td>0.0</td>\n",
       "      <td>0.0</td>\n",
       "      <td>0.0</td>\n",
       "      <td>1.0</td>\n",
       "      <td>1.0</td>\n",
       "    </tr>\n",
       "    <tr>\n",
       "      <th>HISTORY_RPTD</th>\n",
       "      <td>436116.0</td>\n",
       "      <td>0.487194</td>\n",
       "      <td>0.499837</td>\n",
       "      <td>0.0</td>\n",
       "      <td>0.0</td>\n",
       "      <td>0.0</td>\n",
       "      <td>1.0</td>\n",
       "      <td>1.0</td>\n",
       "    </tr>\n",
       "    <tr>\n",
       "      <th>VAX_MANU_MODERNA</th>\n",
       "      <td>436116.0</td>\n",
       "      <td>0.467330</td>\n",
       "      <td>0.498932</td>\n",
       "      <td>0.0</td>\n",
       "      <td>0.0</td>\n",
       "      <td>0.0</td>\n",
       "      <td>1.0</td>\n",
       "      <td>1.0</td>\n",
       "    </tr>\n",
       "    <tr>\n",
       "      <th>VAX_MANU_PFIZER\\BIONTECH</th>\n",
       "      <td>436116.0</td>\n",
       "      <td>0.457032</td>\n",
       "      <td>0.498151</td>\n",
       "      <td>0.0</td>\n",
       "      <td>0.0</td>\n",
       "      <td>0.0</td>\n",
       "      <td>1.0</td>\n",
       "      <td>1.0</td>\n",
       "    </tr>\n",
       "    <tr>\n",
       "      <th>SEX_M</th>\n",
       "      <td>436116.0</td>\n",
       "      <td>0.279047</td>\n",
       "      <td>0.448531</td>\n",
       "      <td>0.0</td>\n",
       "      <td>0.0</td>\n",
       "      <td>0.0</td>\n",
       "      <td>1.0</td>\n",
       "      <td>1.0</td>\n",
       "    </tr>\n",
       "    <tr>\n",
       "      <th>SEX_U</th>\n",
       "      <td>436116.0</td>\n",
       "      <td>0.011366</td>\n",
       "      <td>0.106005</td>\n",
       "      <td>0.0</td>\n",
       "      <td>0.0</td>\n",
       "      <td>0.0</td>\n",
       "      <td>0.0</td>\n",
       "      <td>1.0</td>\n",
       "    </tr>\n",
       "  </tbody>\n",
       "</table>\n",
       "</div>"
      ],
      "text/plain": [
       "                             count      mean       std  min  25%  50%  75%  \\\n",
       "DIED                      436116.0  0.015143  0.122121  0.0  0.0  0.0  0.0   \n",
       "L_THREAT                  436116.0  0.018419  0.134463  0.0  0.0  0.0  0.0   \n",
       "HOSPITAL                  436116.0  0.057418  0.232640  0.0  0.0  0.0  0.0   \n",
       "X_STAY                    436116.0  0.000454  0.021303  0.0  0.0  0.0  0.0   \n",
       "DISABLE                   436116.0  0.021279  0.144312  0.0  0.0  0.0  0.0   \n",
       "RECOVD                    436116.0  0.487584  0.499846  0.0  0.0  0.0  1.0   \n",
       "ER_ED_VISIT               436116.0  0.126297  0.332184  0.0  0.0  0.0  0.0   \n",
       "ageGroup                  436116.0  0.988858  1.060050  0.0  0.0  1.0  2.0   \n",
       "OTHER_MEDS_Not Specified  436116.0  0.289093  0.453342  0.0  0.0  0.0  1.0   \n",
       "OTHER_MEDS_RPTD           436116.0  0.560259  0.496356  0.0  0.0  1.0  1.0   \n",
       "CUR_ILL_Not Specified     436116.0  0.443474  0.496795  0.0  0.0  0.0  1.0   \n",
       "CUR_ILL_RPTD              436116.0  0.145890  0.352996  0.0  0.0  0.0  0.0   \n",
       "ALLERGIES_Not Specified   436116.0  0.367778  0.482201  0.0  0.0  0.0  1.0   \n",
       "ALLERGIES_RPTD            436116.0  0.347694  0.476239  0.0  0.0  0.0  1.0   \n",
       "HISTORY_Not Specified     436116.0  0.274037  0.446028  0.0  0.0  0.0  1.0   \n",
       "HISTORY_RPTD              436116.0  0.487194  0.499837  0.0  0.0  0.0  1.0   \n",
       "VAX_MANU_MODERNA          436116.0  0.467330  0.498932  0.0  0.0  0.0  1.0   \n",
       "VAX_MANU_PFIZER\\BIONTECH  436116.0  0.457032  0.498151  0.0  0.0  0.0  1.0   \n",
       "SEX_M                     436116.0  0.279047  0.448531  0.0  0.0  0.0  1.0   \n",
       "SEX_U                     436116.0  0.011366  0.106005  0.0  0.0  0.0  0.0   \n",
       "\n",
       "                          max  \n",
       "DIED                      1.0  \n",
       "L_THREAT                  1.0  \n",
       "HOSPITAL                  1.0  \n",
       "X_STAY                    1.0  \n",
       "DISABLE                   1.0  \n",
       "RECOVD                    1.0  \n",
       "ER_ED_VISIT               1.0  \n",
       "ageGroup                  5.0  \n",
       "OTHER_MEDS_Not Specified  1.0  \n",
       "OTHER_MEDS_RPTD           1.0  \n",
       "CUR_ILL_Not Specified     1.0  \n",
       "CUR_ILL_RPTD              1.0  \n",
       "ALLERGIES_Not Specified   1.0  \n",
       "ALLERGIES_RPTD            1.0  \n",
       "HISTORY_Not Specified     1.0  \n",
       "HISTORY_RPTD              1.0  \n",
       "VAX_MANU_MODERNA          1.0  \n",
       "VAX_MANU_PFIZER\\BIONTECH  1.0  \n",
       "SEX_M                     1.0  \n",
       "SEX_U                     1.0  "
      ]
     },
     "execution_count": 19,
     "metadata": {},
     "output_type": "execute_result"
    }
   ],
   "source": [
    "encoded_df.describe().T"
   ]
  },
  {
   "cell_type": "markdown",
   "id": "9e401e99",
   "metadata": {},
   "source": [
    "- Observation: we see from the mean and the standard deviation that the values are on similar scale; between (0-1).\n",
    "  otherwise we would have scaled the skewed values by using ex. MinMaxScaler"
   ]
  },
  {
   "cell_type": "markdown",
   "id": "ee2c5be3",
   "metadata": {},
   "source": [
    "__K-Nearest Neighbors (KNN)__\n",
    "\n",
    ">- Now that the data is encoded and scaled, seperate the features (X) from the target variable (y, Recovery).\n",
    ">- split the data into training and testing samples, with test sample representing 20% of the obseravtion.\n",
    ">- estimate a K-nearest neighbor model, using k= 3.\n",
    ">- examine the Precision, Recall, F1 score, and accuracy of the classification.\n",
    ">- use a graph to illustrate the confusion matrix."
   ]
  },
  {
   "cell_type": "code",
   "execution_count": 4,
   "id": "dd7eedfb",
   "metadata": {},
   "outputs": [],
   "source": [
    "from sklearn.model_selection import train_test_split\n",
    "from sklearn.neighbors import KNeighborsClassifier\n",
    "from sklearn.metrics import confusion_matrix, accuracy_score, classification_report, f1_score"
   ]
  },
  {
   "cell_type": "code",
   "execution_count": 5,
   "id": "f8c294e6",
   "metadata": {},
   "outputs": [],
   "source": [
    "y, X = encoded_df['RECOVD'], encoded_df.drop(columns='RECOVD')"
   ]
  },
  {
   "cell_type": "code",
   "execution_count": 6,
   "id": "2ae63d18",
   "metadata": {},
   "outputs": [],
   "source": [
    "X_train, X_test, y_train, y_test = train_test_split(X, y, test_size= 0.2, random_state=42)"
   ]
  },
  {
   "cell_type": "code",
   "execution_count": null,
   "id": "110898f8",
   "metadata": {},
   "outputs": [
    {
     "name": "stdout",
     "output_type": "stream",
     "text": [
      "              precision    recall  f1-score   support\n",
      "\n",
      "           0       0.54      0.76      0.63     44759\n",
      "           1       0.56      0.32      0.41     42465\n",
      "\n",
      "    accuracy                           0.55     87224\n",
      "   macro avg       0.55      0.54      0.52     87224\n",
      "weighted avg       0.55      0.55      0.52     87224\n",
      "\n",
      "Accuracy_score: 0.55\n",
      "f1_score: 0.41\n"
     ]
    }
   ],
   "source": [
    "# estimate KNN model and report outcomes (ca. 8 min)\n",
    "knn = KNeighborsClassifier(n_neighbors= 3 )\n",
    "knn = knn.fit(X_train, y_train)\n",
    "y_predict = knn.predict(X_test)\n",
    "print(classification_report(y_test, y_predict))\n",
    "print('Accuracy_score:', round(accuracy_score(y_test, y_predict), 2))\n",
    "print('f1_score:', round(f1_score(y_test, y_predict), 2))"
   ]
  },
  {
   "cell_type": "code",
   "execution_count": 7,
   "id": "e025c7cb",
   "metadata": {},
   "outputs": [
    {
     "name": "stdout",
     "output_type": "stream",
     "text": [
      "              precision    recall  f1-score   support\n",
      "\n",
      "           0       0.57      0.56      0.56     44759\n",
      "           1       0.54      0.55      0.54     42465\n",
      "\n",
      "    accuracy                           0.55     87224\n",
      "   macro avg       0.55      0.55      0.55     87224\n",
      "weighted avg       0.55      0.55      0.55     87224\n",
      "\n",
      "Accuracy_score: 0.55\n",
      "f1_score: 0.54\n"
     ]
    }
   ],
   "source": [
    "# estimate KNN model and report outcomes (ca. 8 min)\n",
    "knn = KNeighborsClassifier(n_neighbors= 5 )\n",
    "knn = knn.fit(X_train, y_train)\n",
    "y_predict = knn.predict(X_test)\n",
    "print(classification_report(y_test, y_predict))\n",
    "print('Accuracy_score:', round(accuracy_score(y_test, y_predict), 2))\n",
    "print('f1_score:', round(f1_score(y_test, y_predict), 2))"
   ]
  },
  {
   "cell_type": "code",
   "execution_count": 10,
   "id": "c964c0ff",
   "metadata": {},
   "outputs": [
    {
     "data": {
      "text/plain": [
       "Text(0.5, 24.0, 'Prediction')"
      ]
     },
     "execution_count": 10,
     "metadata": {},
     "output_type": "execute_result"
    },
    {
     "data": {
      "image/png": "[encoded data removed]",
      "text/plain": [
       "<Figure size 576x360 with 2 Axes>"
      ]
     },
     "metadata": {
      "needs_background": "light"
     },
     "output_type": "display_data"
    }
   ],
   "source": [
    "# plot confusion matrix\n",
    "#sns.set_palette(sns.color_palette(colors))\n",
    "_,ax = plt.subplots(figsize=(8,5))\n",
    "ax = sns.heatmap(confusion_matrix(y_test, y_predict), annot=True, fmt='d', cmap='mako', annot_kws={'size':20, 'weight': 'bold'})\n",
    "labels= ['not recovered', ' recovered']\n",
    "ax.set_xticklabels(labels, fontsize=15);\n",
    "ax.set_yticklabels(labels, fontsize=15);\n",
    "ax.set_ylabel('Ground Truth', fontsize=20);\n",
    "ax.set_xlabel('Prediction', fontsize=20)"
   ]
  },
  {
   "cell_type": "markdown",
   "id": "5e8814cc",
   "metadata": {},
   "source": [
    "__Right Value For K__\n",
    ">- examine all values of k from 1 to 30\n",
    ">- this time focus on F1, Error rate (1-Accuracy)\n",
    ">- generate charts which plot each of these measures as a function of K\n"
   ]
  },
  {
   "cell_type": "code",
   "execution_count": 69,
   "id": "57170868",
   "metadata": {},
   "outputs": [],
   "source": [
    "# run time: ca. 6 hr\n",
    "max_k = 30\n",
    "f1_scores = list()\n",
    "error_rates = list()\n",
    "\n",
    "for k in range (10, max_k):\n",
    "    knn = KNeighborsClassifier(n_neighbors= k, weights='distance')\n",
    "    knn = knn.fit(X_train, y_train)\n",
    "    y_pred = knn.predict(X_test)\n",
    "    f1_scores.append((k, round(f1_score(y_test, y_pred), 4)))\n",
    "    error = 1-round(accuracy_score(y_test, y_pred), 4)\n",
    "    error_rates.append((k, error))"
   ]
  },
  {
   "cell_type": "code",
   "execution_count": 70,
   "id": "6ccf12d8",
   "metadata": {},
   "outputs": [],
   "source": [
    "f1_results = pd.DataFrame(f1_scores, columns=['K', 'F1 Score'])\n",
    "error_results = pd.DataFrame(error_rates, columns=['K', 'Error Rate'])"
   ]
  },
  {
   "cell_type": "code",
   "execution_count": 71,
   "id": "7cba0c8a",
   "metadata": {},
   "outputs": [
    {
     "data": {
      "text/html": [
       "<div>\n",
       "<style scoped>\n",
       "    .dataframe tbody tr th:only-of-type {\n",
       "        vertical-align: middle;\n",
       "    }\n",
       "\n",
       "    .dataframe tbody tr th {\n",
       "        vertical-align: top;\n",
       "    }\n",
       "\n",
       "    .dataframe thead th {\n",
       "        text-align: right;\n",
       "    }\n",
       "</style>\n",
       "<table border=\"1\" class=\"dataframe\">\n",
       "  <thead>\n",
       "    <tr style=\"text-align: right;\">\n",
       "      <th></th>\n",
       "      <th>K</th>\n",
       "      <th>F1 Score</th>\n",
       "    </tr>\n",
       "  </thead>\n",
       "  <tbody>\n",
       "    <tr>\n",
       "      <th>3</th>\n",
       "      <td>13</td>\n",
       "      <td>0.5842</td>\n",
       "    </tr>\n",
       "    <tr>\n",
       "      <th>7</th>\n",
       "      <td>17</td>\n",
       "      <td>0.5803</td>\n",
       "    </tr>\n",
       "    <tr>\n",
       "      <th>9</th>\n",
       "      <td>19</td>\n",
       "      <td>0.5782</td>\n",
       "    </tr>\n",
       "    <tr>\n",
       "      <th>5</th>\n",
       "      <td>15</td>\n",
       "      <td>0.5777</td>\n",
       "    </tr>\n",
       "    <tr>\n",
       "      <th>1</th>\n",
       "      <td>11</td>\n",
       "      <td>0.5745</td>\n",
       "    </tr>\n",
       "    <tr>\n",
       "      <th>8</th>\n",
       "      <td>18</td>\n",
       "      <td>0.5543</td>\n",
       "    </tr>\n",
       "    <tr>\n",
       "      <th>6</th>\n",
       "      <td>16</td>\n",
       "      <td>0.5440</td>\n",
       "    </tr>\n",
       "    <tr>\n",
       "      <th>4</th>\n",
       "      <td>14</td>\n",
       "      <td>0.5431</td>\n",
       "    </tr>\n",
       "    <tr>\n",
       "      <th>0</th>\n",
       "      <td>10</td>\n",
       "      <td>0.5376</td>\n",
       "    </tr>\n",
       "    <tr>\n",
       "      <th>2</th>\n",
       "      <td>12</td>\n",
       "      <td>0.5358</td>\n",
       "    </tr>\n",
       "  </tbody>\n",
       "</table>\n",
       "</div>"
      ],
      "text/plain": [
       "    K  F1 Score\n",
       "3  13    0.5842\n",
       "7  17    0.5803\n",
       "9  19    0.5782\n",
       "5  15    0.5777\n",
       "1  11    0.5745\n",
       "8  18    0.5543\n",
       "6  16    0.5440\n",
       "4  14    0.5431\n",
       "0  10    0.5376\n",
       "2  12    0.5358"
      ]
     },
     "execution_count": 71,
     "metadata": {},
     "output_type": "execute_result"
    }
   ],
   "source": [
    "f1_results.sort_values(by= 'F1 Score', ascending=False)"
   ]
  },
  {
   "cell_type": "code",
   "execution_count": 76,
   "id": "78a48869",
   "metadata": {},
   "outputs": [
    {
     "data": {
      "text/plain": [
       "<Figure size 1800x1200 with 0 Axes>"
      ]
     },
     "metadata": {},
     "output_type": "display_data"
    },
    {
     "data": {
      "image/png": "[encoded data removed]",
      "text/plain": [
       "<Figure size 864x864 with 1 Axes>"
      ]
     },
     "metadata": {},
     "output_type": "display_data"
    }
   ],
   "source": [
    "# Plot F1 results\n",
    "sns.set_contact('talk')\n",
    "sns.set_style('ticks')\n",
    "\n",
    "plt.figure(dpi=300)\n",
    "ax = f1_results.set_index('K').plot(color='m' ,figsize=(12, 12), linewidth=6)\n",
    "ax.set(xlabel='K', ylabel='F1 Score')\n",
    "ax.set_xticks(range(1, max_k, 2));\n",
    "plt.title('KNN F1 Score')\n",
    "plt.savefig('knn_f1.png')"
   ]
  },
  {
   "cell_type": "code",
   "execution_count": 77,
   "id": "8a57d9d9",
   "metadata": {},
   "outputs": [
    {
     "data": {
      "text/plain": [
       "<Figure size 1800x1200 with 0 Axes>"
      ]
     },
     "metadata": {},
     "output_type": "display_data"
    },
    {
     "data": {
      "image/png": "[encoded data removed]",
      "text/plain": [
       "<Figure size 864x864 with 1 Axes>"
      ]
     },
     "metadata": {},
     "output_type": "display_data"
    }
   ],
   "source": [
    "# Plot Accuracy (Error Rate) results\n",
    "#sns.set_contact('talk')\n",
    "sns.set_style('ticks')\n",
    "\n",
    "plt.figure(dpi=300)\n",
    "ax = f1_results.set_index('K').plot(color='b',figsize=(12, 12), linewidth=6)\n",
    "ax.set(xlabel='K', ylabel='Error Rate')\n",
    "ax.set_xticks(range(1, max_k, 2));\n",
    "plt.title('KNN Elbow Curve')\n",
    "plt.savefig('knn_f1.png')"
   ]
  },
  {
   "cell_type": "code",
   "execution_count": null,
   "id": "a780c54f",
   "metadata": {},
   "outputs": [],
   "source": []
  },
  {
   "cell_type": "code",
   "execution_count": null,
   "id": "7d989317",
   "metadata": {},
   "outputs": [],
   "source": []
  },
  {
   "cell_type": "code",
   "execution_count": null,
   "id": "57b65e33",
   "metadata": {},
   "outputs": [],
   "source": []
  }
 ],
 "metadata": {
  "kernelspec": {
   "display_name": "Python 3 (ipykernel)",
   "language": "python",
   "name": "python3"
  },
  "language_info": {
   "codemirror_mode": {
    "name": "ipython",
    "version": 3
   },
   "file_extension": ".py",
   "mimetype": "text/x-python",
   "name": "python",
   "nbconvert_exporter": "python",
   "pygments_lexer": "ipython3",
   "version": "3.9.7"
  }
 },
 "nbformat": 4,
 "nbformat_minor": 5
}
